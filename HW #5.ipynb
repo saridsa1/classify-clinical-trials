{
 "cells": [
  {
   "cell_type": "markdown",
   "metadata": {},
   "source": [
    "### Homework #5\n",
    "\n",
    "This month, we talked about assessing the accuracy of our model. The cosine similarity model achived nearly 70% accuracy and while that's not great, it's not terrible either.  For your homework, let's do two things:\n",
    "\n",
    "1. Can we improve our model at all? Explore some other model choices or ways of building our feature set to improve the accuracy. As an example, perhaps we could investigate bigrams or using term frequency instead of TFIDF. Use the work we have done as framework for building and tweaking your model.\n",
    "\n",
    "2. Once you have a model that gives you reasonable accuracy with your test data, it's time to apply it to the \"other\" data. Use the provided \"other\" data to build your predictions and create a file, indexed on trial number (\"NCT0012...\") that can be used for assigning predicted clusters to each trial."
   ]
  },
  {
   "cell_type": "code",
   "execution_count": null,
   "metadata": {
    "collapsed": true
   },
   "outputs": [],
   "source": []
  }
 ],
 "metadata": {
  "kernelspec": {
   "display_name": "Python 3",
   "language": "python",
   "name": "python3"
  },
  "language_info": {
   "codemirror_mode": {
    "name": "ipython",
    "version": 3
   },
   "file_extension": ".py",
   "mimetype": "text/x-python",
   "name": "python",
   "nbconvert_exporter": "python",
   "pygments_lexer": "ipython3",
   "version": "3.6.0"
  }
 },
 "nbformat": 4,
 "nbformat_minor": 2
}
